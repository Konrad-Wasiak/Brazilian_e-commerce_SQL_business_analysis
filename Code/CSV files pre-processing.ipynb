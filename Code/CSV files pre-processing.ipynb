{
 "cells": [
  {
   "cell_type": "code",
   "execution_count": 1,
   "id": "initial_id",
   "metadata": {
    "collapsed": true,
    "ExecuteTime": {
     "end_time": "2024-02-26T13:46:33.634185Z",
     "start_time": "2024-02-26T13:46:32.117650Z"
    }
   },
   "outputs": [],
   "source": [
    "import pandas as pd\n",
    "import pathlib"
   ]
  },
  {
   "cell_type": "code",
   "outputs": [
    {
     "data": {
      "text/plain": "                   customer_order_id                                    id  \\\n0  \"06b8999e2fba1a1fbc88172c00ba8bc7  \"\"861eff4711a542e4b93843c6dd7febb0\"\"   \n1  \"18955e83d337fd6b2def6b18a428ac77  \"\"290c77bc529b7ac935b93aa66c333dc3\"\"   \n2  \"4e7b3e00288586ebd08712fdd0374a03  \"\"060e732b5b29e8181a18229c7b0b2b5e\"\"   \n3  \"b2b6027bc5c5109e529d4dc6358b12c3  \"\"259dac757896d24d7702b9acbbff3f3c\"\"   \n4  \"4f2d8ab171c80ec8364f7c12e35b23ad  \"\"345ecd01c38d18a9036ed96c73b8d066\"\"   \n\n    zip_code                   city state  \n0  \"\"14409\"\"                 franca   SP\"  \n1  \"\"09790\"\"  sao bernardo do campo   SP\"  \n2  \"\"01151\"\"              sao paulo   SP\"  \n3  \"\"08775\"\"        mogi das cruzes   SP\"  \n4  \"\"13056\"\"               campinas   SP\"  ",
      "text/html": "<div>\n<style scoped>\n    .dataframe tbody tr th:only-of-type {\n        vertical-align: middle;\n    }\n\n    .dataframe tbody tr th {\n        vertical-align: top;\n    }\n\n    .dataframe thead th {\n        text-align: right;\n    }\n</style>\n<table border=\"1\" class=\"dataframe\">\n  <thead>\n    <tr style=\"text-align: right;\">\n      <th></th>\n      <th>customer_order_id</th>\n      <th>id</th>\n      <th>zip_code</th>\n      <th>city</th>\n      <th>state</th>\n    </tr>\n  </thead>\n  <tbody>\n    <tr>\n      <th>0</th>\n      <td>\"06b8999e2fba1a1fbc88172c00ba8bc7</td>\n      <td>\"\"861eff4711a542e4b93843c6dd7febb0\"\"</td>\n      <td>\"\"14409\"\"</td>\n      <td>franca</td>\n      <td>SP\"</td>\n    </tr>\n    <tr>\n      <th>1</th>\n      <td>\"18955e83d337fd6b2def6b18a428ac77</td>\n      <td>\"\"290c77bc529b7ac935b93aa66c333dc3\"\"</td>\n      <td>\"\"09790\"\"</td>\n      <td>sao bernardo do campo</td>\n      <td>SP\"</td>\n    </tr>\n    <tr>\n      <th>2</th>\n      <td>\"4e7b3e00288586ebd08712fdd0374a03</td>\n      <td>\"\"060e732b5b29e8181a18229c7b0b2b5e\"\"</td>\n      <td>\"\"01151\"\"</td>\n      <td>sao paulo</td>\n      <td>SP\"</td>\n    </tr>\n    <tr>\n      <th>3</th>\n      <td>\"b2b6027bc5c5109e529d4dc6358b12c3</td>\n      <td>\"\"259dac757896d24d7702b9acbbff3f3c\"\"</td>\n      <td>\"\"08775\"\"</td>\n      <td>mogi das cruzes</td>\n      <td>SP\"</td>\n    </tr>\n    <tr>\n      <th>4</th>\n      <td>\"4f2d8ab171c80ec8364f7c12e35b23ad</td>\n      <td>\"\"345ecd01c38d18a9036ed96c73b8d066\"\"</td>\n      <td>\"\"13056\"\"</td>\n      <td>campinas</td>\n      <td>SP\"</td>\n    </tr>\n  </tbody>\n</table>\n</div>"
     },
     "execution_count": 2,
     "metadata": {},
     "output_type": "execute_result"
    }
   ],
   "source": [
    "df = pd.read_csv('olist_customers_dataset.csv', delimiter=',', quoting=3)\n",
    "df.head()"
   ],
   "metadata": {
    "collapsed": false,
    "ExecuteTime": {
     "end_time": "2024-02-26T11:01:19.136263Z",
     "start_time": "2024-02-26T11:01:18.922379Z"
    }
   },
   "id": "fdf1539b8e1ba2c5",
   "execution_count": 2
  },
  {
   "cell_type": "markdown",
   "source": [
    "<h4>Removing double quotes from the dataframes' values</h4>"
   ],
   "metadata": {
    "collapsed": false
   },
   "id": "7b03a5c421a58934"
  },
  {
   "cell_type": "code",
   "outputs": [
    {
     "name": "stdout",
     "output_type": "stream",
     "text": [
      "The problematic file: C:\\Users\\KW\\Desktop\\Programowanie\\SQL\\Project - Brazilian e-commerce\\Data\\Main e-commerce data\\Raw data\\olist_geolocation_dataset.csv\n",
      "\n",
      "Error tokenizing data. C error: Expected 5 fields in line 421040, saw 7\n"
     ]
    }
   ],
   "source": [
    "directory = r'C:\\Users\\KW\\Desktop\\Programowanie\\SQL\\Project - Brazilian e-commerce\\Data\\Main e-commerce data\\Raw data'\n",
    "files = pathlib.Path(directory).glob('*')\n",
    "cleansed_directory = r'C:\\Users\\KW\\Desktop\\Programowanie\\SQL\\Project - Brazilian e-commerce\\Data\\Main e-commerce data\\Pre-processed data'\n",
    "\n",
    "for file in files:\n",
    "    try:\n",
    "        df = pd.read_csv(file, delimiter=',', quoting=3, encoding=\"latin-1\")\n",
    "    except Exception as error:\n",
    "        print('The problematic file: ' + str(file))\n",
    "        print('\\n' + str(error))\n",
    "        break\n",
    "    df_cleaned = df.apply(lambda cell_value: cell_value.str.replace('\"', ''))\n",
    "    \n",
    "    # Starting with the index 104, there is only the name of the file, without its whole path.\n",
    "    # The length of the file - 4 removes '.csv', so that it could be added after modifying the file's name.\n",
    "    new_file_path = cleansed_directory + '\\\\' + str(file)[104:len(str(file))-4] + '_cleaned.csv'\n",
    "    df_cleaned.to_csv(new_file_path, sep=',', index=False)"
   ],
   "metadata": {
    "collapsed": false,
    "ExecuteTime": {
     "end_time": "2024-02-26T13:46:57.739287Z",
     "start_time": "2024-02-26T13:46:55.480908Z"
    }
   },
   "id": "3d64c08badf0efd7",
   "execution_count": 2
  },
  {
   "cell_type": "markdown",
   "source": [
    "Here's the raw line that causes problems:\n",
    "<p>21032,-22.857778813203357,-43.25262574493621,\"rio de janeiro, rio de janeiro, brasil\",RJ</p>\n",
    "\n",
    "<p></p>"
   ],
   "metadata": {
    "collapsed": false
   },
   "id": "2ce3117ad3650274"
  },
  {
   "cell_type": "code",
   "outputs": [],
   "source": [],
   "metadata": {
    "collapsed": false
   },
   "id": "7988a193e8ad9bd8"
  }
 ],
 "metadata": {
  "kernelspec": {
   "display_name": "Python 3",
   "language": "python",
   "name": "python3"
  },
  "language_info": {
   "codemirror_mode": {
    "name": "ipython",
    "version": 2
   },
   "file_extension": ".py",
   "mimetype": "text/x-python",
   "name": "python",
   "nbconvert_exporter": "python",
   "pygments_lexer": "ipython2",
   "version": "2.7.6"
  }
 },
 "nbformat": 4,
 "nbformat_minor": 5
}
