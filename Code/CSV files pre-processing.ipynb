{
 "cells": [
  {
   "cell_type": "code",
   "execution_count": 2,
   "id": "initial_id",
   "metadata": {
    "collapsed": true,
    "ExecuteTime": {
     "end_time": "2024-02-28T07:55:15.973216Z",
     "start_time": "2024-02-28T07:55:15.962836Z"
    }
   },
   "outputs": [],
   "source": [
    "import pandas as pd\n",
    "import pathlib\n",
    "import os"
   ]
  },
  {
   "cell_type": "code",
   "outputs": [
    {
     "data": {
      "text/plain": "'C:\\\\Users\\\\KW\\\\Desktop\\\\Programowanie\\\\SQL\\\\Project - Brazilian e-commerce\\\\Code'"
     },
     "execution_count": 3,
     "metadata": {},
     "output_type": "execute_result"
    }
   ],
   "source": [
    "# Checking the working directory.\n",
    "os.getcwd()"
   ],
   "metadata": {
    "collapsed": false,
    "ExecuteTime": {
     "end_time": "2024-02-28T07:55:16.784858Z",
     "start_time": "2024-02-28T07:55:16.738065Z"
    }
   },
   "id": "adade3a821f1e88f",
   "execution_count": 3
  },
  {
   "cell_type": "code",
   "outputs": [
    {
     "data": {
      "text/plain": "'C:\\\\Users\\\\KW\\\\Desktop\\\\Programowanie\\\\SQL\\\\Project - Brazilian e-commerce\\\\Data\\\\Main e-commerce data\\\\Raw data'"
     },
     "execution_count": 4,
     "metadata": {},
     "output_type": "execute_result"
    }
   ],
   "source": [
    "# Changing the working directory so that there would be no need to specify the files' paths manually.\n",
    "os.chdir(r'C:\\Users\\KW\\Desktop\\Programowanie\\SQL\\Project - Brazilian e-commerce\\Data\\Main e-commerce data\\Raw data')\n",
    "os.getcwd()"
   ],
   "metadata": {
    "collapsed": false,
    "ExecuteTime": {
     "end_time": "2024-02-28T07:55:18.278839Z",
     "start_time": "2024-02-28T07:55:18.269363Z"
    }
   },
   "id": "e300c908136c5b45",
   "execution_count": 4
  },
  {
   "cell_type": "markdown",
   "source": [
    "<h4>Removing double quotes from the dataframes' values</h4>\n",
    "<p>If we tell Pandas to ignore every quotation mark with the use of the argument quoting=3, we'll encounter an error. It is caused by some cells containing commas that are not supposed to serve as delimiters, so they've been surrounded with quotation marks.</p>\n",
    "\n",
    "<p>To deal with this problem and avoid unnecessary quotation marks, we've got to remove them from column names and rows separately. Fortunately for us, simple read_csv command without additional arguments is enough to remove those unnecessary quotation marks, while leaving out the additional ones.</p>"
   ],
   "metadata": {
    "collapsed": false
   },
   "id": "7b03a5c421a58934"
  },
  {
   "cell_type": "code",
   "outputs": [],
   "source": [
    "directory = r'C:\\Users\\KW\\Desktop\\Programowanie\\SQL\\Project - Brazilian e-commerce\\Data\\Main e-commerce data\\Raw data'\n",
    "files = pathlib.Path(directory).glob('*')\n",
    "cleansed_directory = r'C:\\Users\\KW\\Desktop\\Programowanie\\SQL\\Project - Brazilian e-commerce\\Data\\Main e-commerce data\\Pre-processed data'\n",
    "\n",
    "for file in files:\n",
    "    try:\n",
    "        df = pd.read_csv(file, delimiter=',')\n",
    "        # Starting with the index 104, there is only the name of the file, without its whole path.\n",
    "        # The length of the file - 4 removes '.csv', so that it could be added after modifying the file's name.\n",
    "        new_file_path = cleansed_directory + '\\\\' + str(file)[104:len(str(file))-4] + '_cleaned.csv'\n",
    "\n",
    "        # Removing quotation marks from headers (column names).\n",
    "    \n",
    "        renamed_headers = []\n",
    "        headers = df.columns\n",
    "    \n",
    "        for header in headers:\n",
    "            renamed_headers.append(header.strip('\"'))\n",
    "    \n",
    "        df.columns = renamed_headers\n",
    "        df.to_csv(new_file_path, sep=',', index=False)\n",
    "        \n",
    "    except Exception as error:\n",
    "        print('The problematic file: ' + str(file))\n",
    "        print('\\n' + str(error))"
   ],
   "metadata": {
    "collapsed": false,
    "ExecuteTime": {
     "end_time": "2024-02-28T07:56:06.912973Z",
     "start_time": "2024-02-28T07:55:42.502645Z"
    }
   },
   "id": "3d64c08badf0efd7",
   "execution_count": 5
  },
  {
   "cell_type": "code",
   "outputs": [],
   "source": [],
   "metadata": {
    "collapsed": false
   },
   "id": "15ef10f9a851c472"
  }
 ],
 "metadata": {
  "kernelspec": {
   "display_name": "Python 3",
   "language": "python",
   "name": "python3"
  },
  "language_info": {
   "codemirror_mode": {
    "name": "ipython",
    "version": 2
   },
   "file_extension": ".py",
   "mimetype": "text/x-python",
   "name": "python",
   "nbconvert_exporter": "python",
   "pygments_lexer": "ipython2",
   "version": "2.7.6"
  }
 },
 "nbformat": 4,
 "nbformat_minor": 5
}
